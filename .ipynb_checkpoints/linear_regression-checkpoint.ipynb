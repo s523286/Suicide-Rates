{
 "cells": [
  {
   "cell_type": "markdown",
   "metadata": {},
   "source": [
    "# Linear Regression"
   ]
  },
  {
   "cell_type": "markdown",
   "metadata": {},
   "source": [
    "## Cleaning and Splitting (copied from initial_exploration)"
   ]
  },
  {
   "cell_type": "code",
   "execution_count": 15,
   "metadata": {
    "scrolled": true
   },
   "outputs": [
    {
     "name": "stdout",
     "output_type": "stream",
     "text": [
      "traning set length: 22256 \n",
      "test set length: 5564\n",
      "<class 'pandas.core.frame.DataFrame'>\n",
      "RangeIndex: 27820 entries, 0 to 27819\n",
      "Data columns (total 22 columns):\n",
      "country              27820 non-null object\n",
      "year                 27820 non-null int64\n",
      "male                 27820 non-null int64\n",
      "age                  27820 non-null object\n",
      "suicides_no          27820 non-null int64\n",
      "population           27820 non-null int64\n",
      "suicides/100k pop    27820 non-null float64\n",
      "country-year         27820 non-null object\n",
      "gdp_for_year $       27820 non-null float64\n",
      "gdp_per_capita $     27820 non-null int64\n",
      "Generation X         27820 non-null int64\n",
      "Silent               27820 non-null int64\n",
      "Millenials           27820 non-null int64\n",
      "Boomers              27820 non-null int64\n",
      "G.I. Generation      27820 non-null int64\n",
      "Generation Z         27820 non-null int64\n",
      "5-14 years           27820 non-null int64\n",
      "15-24 years          27820 non-null int64\n",
      "25-34 years          27820 non-null int64\n",
      "35-54 years          27820 non-null int64\n",
      "55-74 years          27820 non-null int64\n",
      "75+ years            27820 non-null int64\n",
      "dtypes: float64(2), int64(17), object(3)\n",
      "memory usage: 4.7+ MB\n",
      "None\n"
     ]
    }
   ],
   "source": [
    "import pandas as pd\n",
    "df = pd.read_csv(\"suiciderates.csv\")\n",
    "\n",
    "#Making generations boolean\n",
    "df_split_gen = df.copy()\n",
    "\n",
    "def gen_x_bool(gen):\n",
    "    if gen == \"Generation X\":\n",
    "        return 1\n",
    "    else:\n",
    "        return 0\n",
    "\n",
    "df_split_gen[\"Generation X\"] = df_split_gen[\"generation\"].map(gen_x_bool)\n",
    "\n",
    "def silent_bool(gen):\n",
    "    if gen == \"Silent\":\n",
    "        return 1\n",
    "    else:\n",
    "        return 0\n",
    "\n",
    "df_split_gen[\"Silent\"] = df_split_gen[\"generation\"].map(silent_bool)\n",
    "\n",
    "def mil_bool(gen):\n",
    "    if gen == \"Millenials\":\n",
    "        return 1\n",
    "    else:\n",
    "        return 0\n",
    "\n",
    "df_split_gen[\"Millenials\"] = df_split_gen[\"generation\"].map(mil_bool)\n",
    "\n",
    "def boom_bool(gen):\n",
    "    if gen == \"Boomers\":\n",
    "        return 1\n",
    "    else:\n",
    "        return 0\n",
    "\n",
    "df_split_gen[\"Boomers\"] = df_split_gen[\"generation\"].map(boom_bool)\n",
    "\n",
    "def g_i_bool(gen):\n",
    "    if gen == \"G.I. Generation\":\n",
    "        return 1\n",
    "    else:\n",
    "        return 0\n",
    "\n",
    "df_split_gen[\"G.I. Generation\"] = df_split_gen[\"generation\"].map(g_i_bool)\n",
    "\n",
    "def z_bool(gen):\n",
    "    if gen == \"Generation Z\":\n",
    "        return 1\n",
    "    else:\n",
    "        return 0\n",
    "\n",
    "df_split_gen[\"Generation Z\"] = df_split_gen[\"generation\"].map(z_bool)\n",
    "\n",
    "# Drop the original generation column\n",
    "drop_gen = df_split_gen.copy()\n",
    "drop_gen.drop(labels=\"generation\", axis='columns', inplace=True)\n",
    "\n",
    "# Changing sex to a boolean\n",
    "df_sex = drop_gen.copy()\n",
    "df_sex[\"sex\"].replace(\"female\", 0,inplace=True)\n",
    "df_sex[\"sex\"].replace(\"male\", 1, inplace=True)\n",
    "\n",
    "# Rename it to male for easier understanding\n",
    "df_sex.rename(columns = {'sex':'male'}, inplace = True)\n",
    "\n",
    "# Changing age to a boolean\n",
    "age_bool = df_sex.copy()\n",
    "\n",
    "def g1_bool(age):\n",
    "    if age == \"5-14 years\":\n",
    "        return 1\n",
    "    else:\n",
    "        return 0\n",
    "\n",
    "age_bool[\"5-14 years\"] = age_bool[\"age\"].map(g1_bool)\n",
    "\n",
    "def g2_bool(age):\n",
    "    if age == \"15-24 years\":\n",
    "        return 1\n",
    "    else:\n",
    "        return 0\n",
    "\n",
    "age_bool[\"15-24 years\"] = age_bool[\"age\"].map(g2_bool)\n",
    "\n",
    "def g3_bool(age):\n",
    "    if age == \"25-34 years\":\n",
    "        return 1\n",
    "    else:\n",
    "        return 0\n",
    "\n",
    "age_bool[\"25-34 years\"] = age_bool[\"age\"].map(g3_bool)\n",
    "\n",
    "def g4_bool(age):\n",
    "    if age == \"35-54 years\":\n",
    "        return 1\n",
    "    else:\n",
    "        return 0\n",
    "\n",
    "age_bool[\"35-54 years\"] = age_bool[\"age\"].map(g4_bool)\n",
    "\n",
    "def g5_bool(age):\n",
    "    if age == \"55-74 years\":\n",
    "        return 1\n",
    "    else:\n",
    "        return 0\n",
    "\n",
    "age_bool[\"55-74 years\"] = age_bool[\"age\"].map(g5_bool)\n",
    "\n",
    "def g6_bool(age):\n",
    "    if age == \"75+ years\":\n",
    "        return 1\n",
    "    else:\n",
    "        return 0\n",
    "\n",
    "age_bool[\"75+ years\"] = age_bool[\"age\"].map(g6_bool)\n",
    "\n",
    "# Drop HDI for year\n",
    "drop_hdi = age_bool.copy()\n",
    "drop_hdi.drop(labels=\"HDI for year\", axis='columns', inplace=True)\n",
    "\n",
    "# Convert GDP to numerical values\n",
    "gdp_to_num = drop_hdi.copy()\n",
    "# rename the columns due to formatting issues\n",
    "new_cols = gdp_to_num.columns.values\n",
    "new_cols[8] = 'gdp_for_year $'\n",
    "new_cols[9] = 'gdp_per_capita $'\n",
    "gdp_to_num.columns = new_cols\n",
    "\n",
    "#Change the datatype of gdp_for_year\n",
    "gdp_to_num['gdp_for_year $'] = gdp_to_num.iloc[:,8].str.replace(',', '').astype(float)\n",
    "\n",
    "from sklearn.model_selection import train_test_split\n",
    "\n",
    "data2 = gdp_to_num.copy()\n",
    "train_set, test_set = train_test_split(data2, test_size=0.2, random_state=123)\n",
    "print(\"traning set length:\", len(train_set),\"\\ntest set length:\", len(test_set))\n",
    "print(data2.info())"
   ]
  },
  {
   "cell_type": "markdown",
   "metadata": {},
   "source": [
    "## Perform a linear regression:"
   ]
  },
  {
   "cell_type": "code",
   "execution_count": 17,
   "metadata": {},
   "outputs": [],
   "source": [
    "from sklearn.linear_model import LinearRegression\n",
    "reg = LinearRegression()\n",
    "working_set = train_set.copy()"
   ]
  },
  {
   "cell_type": "markdown",
   "metadata": {},
   "source": [
    "### Initial Features:\n",
    "- I am going to choose suicides_no as my initial Y value since that is what I want to predict.\n",
    "- I am going to choose male (or sex) as my initial feature for X. This is because I would expect gender to be a big factor in explaining number of suicides."
   ]
  },
  {
   "cell_type": "markdown",
   "metadata": {},
   "source": [
    "### Regression with one feature, \"male\""
   ]
  },
  {
   "cell_type": "code",
   "execution_count": 26,
   "metadata": {
    "scrolled": false
   },
   "outputs": [
    {
     "name": "stdout",
     "output_type": "stream",
     "text": [
      "The bias is  112.18620504081082\n",
      "The feature coefficients are  [263.35165397]\n",
      "R-squared equals:  0.020790546884134398\n"
     ]
    }
   ],
   "source": [
    "X = working_set[[\"male\"]]\n",
    "Y = working_set[\"suicides_no\"]\n",
    "reg.fit(X, Y)\n",
    "\n",
    "print(\"The bias is \" , reg.intercept_)\n",
    "print(\"The feature coefficients are \", reg.coef_)\n",
    "print(\"R-squared equals: \", reg.score(X,Y))"
   ]
  },
  {
   "cell_type": "markdown",
   "metadata": {},
   "source": [
    "### Comments:\n",
    "The bias is kind of high, but the feature coefficient is very large, meaning that gender plays a large role in number of suicides. The R-squared value; however, is very low which is not good. We want to be able to explain more of our variation in Y with our X values."
   ]
  },
  {
   "cell_type": "markdown",
   "metadata": {},
   "source": [
    "### Regression with two features, \"male\" and \"gdp_for_year\""
   ]
  },
  {
   "cell_type": "code",
   "execution_count": 19,
   "metadata": {
    "scrolled": true
   },
   "outputs": [
    {
     "name": "stdout",
     "output_type": "stream",
     "text": [
      "The bias is  -8.757882384200286\n",
      "The feature coefficients are  [2.60346548e+02 2.75162435e-10]\n",
      "R-squared equals:  0.20746355880458744\n"
     ]
    }
   ],
   "source": [
    "X = working_set[[\"male\", \"gdp_for_year $\"]]\n",
    "Y = working_set[\"suicides_no\"]\n",
    "reg.fit(X, Y)\n",
    "\n",
    "print(\"The bias is \" , reg.intercept_)\n",
    "print(\"The feature coefficients are \", reg.coef_)\n",
    "print(\"R-squared equals: \", reg.score(X,Y))"
   ]
  },
  {
   "cell_type": "markdown",
   "metadata": {},
   "source": [
    "### Comments:\n",
    "The bias is -8 which concerns me because no one should be in the negatives for likliness of suicide. Also, the feature coefficient of gdp_for_year is very small, meaning that the feature is probably insignificant. On the other hand, the R-squared value is roughly 20% higher than the initial value. I think we should consider keeping gdp_for_year in the model, but I'm not set on it."
   ]
  },
  {
   "cell_type": "markdown",
   "metadata": {},
   "source": [
    "### Regression using all features"
   ]
  },
  {
   "cell_type": "code",
   "execution_count": 25,
   "metadata": {
    "scrolled": true
   },
   "outputs": [
    {
     "name": "stdout",
     "output_type": "stream",
     "text": [
      "The bias is  1121.742527479717\n",
      "The feature coefficients are  [-6.80631060e-01  7.81270921e+01 -6.67873034e+01 -7.49764304e+00\n",
      "  1.99822015e+01  8.32979531e+01  4.57535828e+01 -7.47487910e+01\n",
      "  1.43260053e-04  1.34465227e+01 -6.49357642e-12  8.26123785e-04\n",
      " -2.69063629e+01  1.34917457e+01 -7.70974155e+00  1.38490477e+01\n",
      " -1.41936912e+01  2.14690022e+01]\n",
      "R-squared equals:  0.47544088711326377\n"
     ]
    }
   ],
   "source": [
    "#Run all without country and country-year\n",
    "X = working_set[[\"year\", \"male\", \"5-14 years\", \"15-24 years\", \n",
    "                 \"25-34 years\", \"35-54 years\", \"55-74 years\", \n",
    "                 \"75+ years\", \"population\", \"suicides/100k pop\", \n",
    "                 \"gdp_for_year $\", \"gdp_per_capita $\", \"Generation X\", \n",
    "                 \"Silent\", \"Millenials\", \"Boomers\", \"G.I. Generation\", \n",
    "                 \"Generation Z\"]]\n",
    "Y = working_set[\"suicides_no\"]\n",
    "reg.fit(X, Y)\n",
    "\n",
    "print(\"The bias is \" , reg.intercept_)\n",
    "print(\"The feature coefficients are \", reg.coef_)\n",
    "print(\"R-squared equals: \", reg.score(X,Y))"
   ]
  },
  {
   "cell_type": "markdown",
   "metadata": {},
   "source": [
    "### Comments:\n",
    "I first tested all of the columns, that were numerical or boolean, in my model. I could not use countries because there were way too many to convert them to boolean values. There is definitely overfitting here, but it's a better place to start. I will remove some features next. The R-squared got significantly higher, but so did the bias. Now, we can remove features and be able to better tell what really is explaining the variation in y."
   ]
  },
  {
   "cell_type": "markdown",
   "metadata": {},
   "source": [
    "### Regression with 2 features, \"population\" and \"gdp_per_capita\""
   ]
  },
  {
   "cell_type": "code",
   "execution_count": 21,
   "metadata": {
    "scrolled": false
   },
   "outputs": [
    {
     "name": "stdout",
     "output_type": "stream",
     "text": [
      "The bias is  -217.34950686597102\n",
      "The feature coefficients are  [1.43784527e-04 1.44500347e+01 6.28569766e-04]\n",
      "R-squared equals:  0.469394887609627\n"
     ]
    }
   ],
   "source": [
    "#Take out insignificant features\n",
    "X = working_set[[\"population\", \"suicides/100k pop\", \"gdp_per_capita $\"]]\n",
    "Y = working_set[\"suicides_no\"]\n",
    "reg.fit(X, Y)\n",
    "\n",
    "print(\"The bias is \" , reg.intercept_)\n",
    "print(\"The feature coefficients are \", reg.coef_)\n",
    "print(\"R-squared equals: \", reg.score(X,Y))"
   ]
  },
  {
   "cell_type": "code",
   "execution_count": 32,
   "metadata": {
    "scrolled": false
   },
   "outputs": [
    {
     "name": "stdout",
     "output_type": "stream",
     "text": [
      "The bias is  194.41060463992696\n",
      "The feature coefficients are  [0.00290469]\n",
      "R-squared equals:  0.003640233276967941\n"
     ]
    }
   ],
   "source": [
    "#Take out insignificant features\n",
    "X = working_set[[\"gdp_per_capita $\"]]\n",
    "Y = working_set[\"suicides_no\"]\n",
    "reg.fit(X, Y)\n",
    "\n",
    "print(\"The bias is \" , reg.intercept_)\n",
    "print(\"The feature coefficients are \", reg.coef_)\n",
    "print(\"R-squared equals: \", reg.score(X,Y))\n",
    "\n",
    "# Plot outputs\n",
    "import matplotlib.pyplot as plt\n",
    "plt.scatter(X, Y,  color='black')\n",
    "#plt.plot(X, Y, color='blue', linewidth=3)\n",
    "\n",
    "#plt.xticks(())\n",
    "#plt.yticks(())\n",
    "\n",
    "plt.show()"
   ]
  },
  {
   "cell_type": "markdown",
   "metadata": {},
   "source": [
    "### Comments:\n",
    "After removing all the insignificant features, we were left with a much better R-squared value than we started with and way less predictors than the last model. The R-squared value is still less than 50% which is not ideal, but without being able to factor in country, this is the best model. The bias is also not ideal.\n",
    "\n",
    "Note: \"suicides/100k pop\" was a significant feature, but it would create ..."
   ]
  },
  {
   "cell_type": "markdown",
   "metadata": {},
   "source": [
    "### Testing the Data:"
   ]
  },
  {
   "cell_type": "code",
   "execution_count": 22,
   "metadata": {},
   "outputs": [
    {
     "name": "stdout",
     "output_type": "stream",
     "text": [
      "The bias is  -4.170600025119256\n",
      "The feature coefficients are  [1.32119416e-04 2.15423623e-05]\n",
      "R-squared equals:  0.383283384911531\n"
     ]
    }
   ],
   "source": [
    "#X = test_set[[\"population\", \"suicides/100k pop\", \"gdp_per_capita $\"]]\n",
    "X = test_set[[\"population\", \"gdp_per_capita $\"]]\n",
    "Y = test_set[\"suicides_no\"]\n",
    "reg.fit(X, Y)\n",
    "\n",
    "print(\"The bias is \" , reg.intercept_)\n",
    "print(\"The feature coefficients are \", reg.coef_)\n",
    "print(\"R-squared equals: \", reg.score(X,Y))"
   ]
  },
  {
   "cell_type": "markdown",
   "metadata": {},
   "source": [
    "### Comments:\n",
    "All of the metrics on the test set are virtually the same as the training set. The bias actually went down and the R-squared got a little better which is a good sign. This is a fairly good model.\n",
    "### Overall Comments:\n",
    "Gender was not a large predictor like I thought it would be; however, population and gdp_per_capita were significant predictors."
   ]
  },
  {
   "cell_type": "code",
   "execution_count": null,
   "metadata": {},
   "outputs": [],
   "source": []
  }
 ],
 "metadata": {
  "kernelspec": {
   "display_name": "Python 3 (Spyder)",
   "language": "python3",
   "name": "python3"
  },
  "language_info": {
   "codemirror_mode": {
    "name": "ipython",
    "version": 3
   },
   "file_extension": ".py",
   "mimetype": "text/x-python",
   "name": "python",
   "nbconvert_exporter": "python",
   "pygments_lexer": "ipython3",
   "version": "3.7.1"
  }
 },
 "nbformat": 4,
 "nbformat_minor": 2
}
